{
 "cells": [
  {
   "cell_type": "code",
   "execution_count": 133,
   "metadata": {},
   "outputs": [],
   "source": [
    "import os\n",
    "from PIL import Image as im\n",
    "import pandas as pd\n",
    "import numpy as np\n",
    "import matplotlib.pyplot as plt\n",
    "%matplotlib inline"
   ]
  },
  {
   "cell_type": "code",
   "execution_count": 134,
   "metadata": {},
   "outputs": [],
   "source": [
    "train_labels = pd.read_csv('Machine Learning Task/train_labels.csv')\n",
    "test_labels = pd.read_csv('Machine Learning Task/test_labels.csv')"
   ]
  },
  {
   "cell_type": "code",
   "execution_count": 135,
   "metadata": {},
   "outputs": [
    {
     "data": {
      "text/html": [
       "<div>\n",
       "<style scoped>\n",
       "    .dataframe tbody tr th:only-of-type {\n",
       "        vertical-align: middle;\n",
       "    }\n",
       "\n",
       "    .dataframe tbody tr th {\n",
       "        vertical-align: top;\n",
       "    }\n",
       "\n",
       "    .dataframe thead th {\n",
       "        text-align: right;\n",
       "    }\n",
       "</style>\n",
       "<table border=\"1\" class=\"dataframe\">\n",
       "  <thead>\n",
       "    <tr style=\"text-align: right;\">\n",
       "      <th></th>\n",
       "      <th>id</th>\n",
       "      <th>label</th>\n",
       "    </tr>\n",
       "  </thead>\n",
       "  <tbody>\n",
       "    <tr>\n",
       "      <th>0</th>\n",
       "      <td>10</td>\n",
       "      <td>cat</td>\n",
       "    </tr>\n",
       "    <tr>\n",
       "      <th>1</th>\n",
       "      <td>18</td>\n",
       "      <td>cat</td>\n",
       "    </tr>\n",
       "    <tr>\n",
       "      <th>2</th>\n",
       "      <td>22</td>\n",
       "      <td>cat</td>\n",
       "    </tr>\n",
       "    <tr>\n",
       "      <th>3</th>\n",
       "      <td>27</td>\n",
       "      <td>cat</td>\n",
       "    </tr>\n",
       "    <tr>\n",
       "      <th>4</th>\n",
       "      <td>34</td>\n",
       "      <td>cat</td>\n",
       "    </tr>\n",
       "  </tbody>\n",
       "</table>\n",
       "</div>"
      ],
      "text/plain": [
       "   id label\n",
       "0  10   cat\n",
       "1  18   cat\n",
       "2  22   cat\n",
       "3  27   cat\n",
       "4  34   cat"
      ]
     },
     "execution_count": 135,
     "metadata": {},
     "output_type": "execute_result"
    }
   ],
   "source": [
    "train_labels.head()"
   ]
  },
  {
   "cell_type": "code",
   "execution_count": 136,
   "metadata": {},
   "outputs": [
    {
     "data": {
      "text/plain": [
       "(8000, 2)"
      ]
     },
     "execution_count": 136,
     "metadata": {},
     "output_type": "execute_result"
    }
   ],
   "source": [
    "train_labels.shape"
   ]
  },
  {
   "cell_type": "code",
   "execution_count": 137,
   "metadata": {},
   "outputs": [
    {
     "data": {
      "text/html": [
       "<div>\n",
       "<style scoped>\n",
       "    .dataframe tbody tr th:only-of-type {\n",
       "        vertical-align: middle;\n",
       "    }\n",
       "\n",
       "    .dataframe tbody tr th {\n",
       "        vertical-align: top;\n",
       "    }\n",
       "\n",
       "    .dataframe thead th {\n",
       "        text-align: right;\n",
       "    }\n",
       "</style>\n",
       "<table border=\"1\" class=\"dataframe\">\n",
       "  <thead>\n",
       "    <tr style=\"text-align: right;\">\n",
       "      <th></th>\n",
       "      <th>id</th>\n",
       "      <th>label</th>\n",
       "    </tr>\n",
       "  </thead>\n",
       "  <tbody>\n",
       "    <tr>\n",
       "      <th>0</th>\n",
       "      <td>40217</td>\n",
       "      <td>cat</td>\n",
       "    </tr>\n",
       "    <tr>\n",
       "      <th>1</th>\n",
       "      <td>40227</td>\n",
       "      <td>cat</td>\n",
       "    </tr>\n",
       "    <tr>\n",
       "      <th>2</th>\n",
       "      <td>40228</td>\n",
       "      <td>cat</td>\n",
       "    </tr>\n",
       "    <tr>\n",
       "      <th>3</th>\n",
       "      <td>40233</td>\n",
       "      <td>cat</td>\n",
       "    </tr>\n",
       "    <tr>\n",
       "      <th>4</th>\n",
       "      <td>40247</td>\n",
       "      <td>cat</td>\n",
       "    </tr>\n",
       "  </tbody>\n",
       "</table>\n",
       "</div>"
      ],
      "text/plain": [
       "      id label\n",
       "0  40217   cat\n",
       "1  40227   cat\n",
       "2  40228   cat\n",
       "3  40233   cat\n",
       "4  40247   cat"
      ]
     },
     "execution_count": 137,
     "metadata": {},
     "output_type": "execute_result"
    }
   ],
   "source": [
    "test_labels.head()"
   ]
  },
  {
   "cell_type": "code",
   "execution_count": 138,
   "metadata": {},
   "outputs": [
    {
     "data": {
      "text/plain": [
       "(2000, 2)"
      ]
     },
     "execution_count": 138,
     "metadata": {},
     "output_type": "execute_result"
    }
   ],
   "source": [
    "test_labels.shape"
   ]
  },
  {
   "cell_type": "code",
   "execution_count": 139,
   "metadata": {},
   "outputs": [],
   "source": [
    "mapping = {'cat' : 0, 'dog' : 1}\n",
    "train_labels['label'] = train_labels['label'] == 'dog'\n",
    "test_labels['label'] = test_labels['label'] == 'dog'"
   ]
  },
  {
   "cell_type": "code",
   "execution_count": 140,
   "metadata": {},
   "outputs": [
    {
     "data": {
      "text/html": [
       "<div>\n",
       "<style scoped>\n",
       "    .dataframe tbody tr th:only-of-type {\n",
       "        vertical-align: middle;\n",
       "    }\n",
       "\n",
       "    .dataframe tbody tr th {\n",
       "        vertical-align: top;\n",
       "    }\n",
       "\n",
       "    .dataframe thead th {\n",
       "        text-align: right;\n",
       "    }\n",
       "</style>\n",
       "<table border=\"1\" class=\"dataframe\">\n",
       "  <thead>\n",
       "    <tr style=\"text-align: right;\">\n",
       "      <th></th>\n",
       "      <th>id</th>\n",
       "      <th>label</th>\n",
       "    </tr>\n",
       "  </thead>\n",
       "  <tbody>\n",
       "    <tr>\n",
       "      <th>0</th>\n",
       "      <td>10</td>\n",
       "      <td>False</td>\n",
       "    </tr>\n",
       "    <tr>\n",
       "      <th>1</th>\n",
       "      <td>18</td>\n",
       "      <td>False</td>\n",
       "    </tr>\n",
       "    <tr>\n",
       "      <th>2</th>\n",
       "      <td>22</td>\n",
       "      <td>False</td>\n",
       "    </tr>\n",
       "    <tr>\n",
       "      <th>3</th>\n",
       "      <td>27</td>\n",
       "      <td>False</td>\n",
       "    </tr>\n",
       "    <tr>\n",
       "      <th>4</th>\n",
       "      <td>34</td>\n",
       "      <td>False</td>\n",
       "    </tr>\n",
       "  </tbody>\n",
       "</table>\n",
       "</div>"
      ],
      "text/plain": [
       "   id  label\n",
       "0  10  False\n",
       "1  18  False\n",
       "2  22  False\n",
       "3  27  False\n",
       "4  34  False"
      ]
     },
     "execution_count": 140,
     "metadata": {},
     "output_type": "execute_result"
    }
   ],
   "source": [
    "train_labels.head()"
   ]
  },
  {
   "cell_type": "code",
   "execution_count": 141,
   "metadata": {},
   "outputs": [
    {
     "name": "stdout",
     "output_type": "stream",
     "text": [
      "[[   10     0]\n",
      " [   18     0]\n",
      " [   22     0]\n",
      " ...\n",
      " [40311     1]\n",
      " [40332     1]\n",
      " [40352     1]]\n"
     ]
    }
   ],
   "source": [
    "train = train_labels.to_numpy(dtype='int32')\n",
    "test = test_labels.to_numpy(dtype='int32')\n",
    "print(train)"
   ]
  },
  {
   "cell_type": "code",
   "execution_count": 142,
   "metadata": {},
   "outputs": [
    {
     "name": "stdout",
     "output_type": "stream",
     "text": [
      "[[33512     0]\n",
      " [ 1857     0]\n",
      " [26408     0]\n",
      " ...\n",
      " [33811     0]\n",
      " [28390     1]\n",
      " [40092     1]]\n"
     ]
    }
   ],
   "source": [
    "#shuffle array\n",
    "np.random.shuffle(train)\n",
    "print(train)"
   ]
  },
  {
   "cell_type": "code",
   "execution_count": 143,
   "metadata": {},
   "outputs": [],
   "source": [
    "x_train,y_train = train.T\n",
    "x_test,y_test = test.T"
   ]
  },
  {
   "cell_type": "code",
   "execution_count": 144,
   "metadata": {},
   "outputs": [],
   "source": [
    "x_train = np.array(x_train)\n",
    "y_train = np.array(y_train)\n",
    "x_test = np.array(x_test)\n",
    "y_test = np.array(y_test)"
   ]
  },
  {
   "cell_type": "code",
   "execution_count": null,
   "metadata": {},
   "outputs": [],
   "source": []
  },
  {
   "cell_type": "code",
   "execution_count": 145,
   "metadata": {},
   "outputs": [],
   "source": [
    "x_trainImgs = []\n",
    "x_testImgs = []\n",
    "for img_name in x_train:\n",
    "    name = str(img_name)+'.png'\n",
    "    x_trainImgs.append(np.array(im.open(os.path.join('Machine Learning Task','train_data',name))))\n",
    "\n",
    "for img_name in x_test:\n",
    "    name = str(img_name)+'.png'\n",
    "    x_testImgs.append(np.array(im.open(os.path.join('Machine Learning Task','test_data',name))))\n",
    "    \n",
    "x_trainImgs = np.array(x_trainImgs)\n",
    "x_testImgs = np.array(x_testImgs)"
   ]
  },
  {
   "cell_type": "code",
   "execution_count": 146,
   "metadata": {},
   "outputs": [],
   "source": [
    "x_trainImgs = x_trainImgs /255.0\n",
    "x_testImgs = x_testImgs / 255.0"
   ]
  },
  {
   "cell_type": "code",
   "execution_count": 147,
   "metadata": {},
   "outputs": [
    {
     "name": "stdout",
     "output_type": "stream",
     "text": [
      "train (8000, 32, 32, 3)\n",
      "test (2000, 32, 32, 3)\n"
     ]
    }
   ],
   "source": [
    "print('train',x_trainImgs.shape)\n",
    "print('test',x_testImgs.shape)"
   ]
  },
  {
   "cell_type": "code",
   "execution_count": 148,
   "metadata": {},
   "outputs": [],
   "source": [
    "from keras.models import Sequential\n",
    "from keras.layers import Dense, Activation, Dropout\n",
    "from keras.utils import to_categorical, plot_model\n",
    "import os"
   ]
  },
  {
   "cell_type": "code",
   "execution_count": 149,
   "metadata": {},
   "outputs": [
    {
     "name": "stdout",
     "output_type": "stream",
     "text": [
      "Gray train (8000, 32, 32, 1)\n",
      "Gray test (2000, 32, 32, 1)\n"
     ]
    }
   ],
   "source": [
    "x_trainGray = x_trainImgs.mean(axis=-1).reshape(-1,32,32,1)\n",
    "x_testGray = x_testImgs.mean(axis=-1).reshape(-1,32,32,1)\n",
    "print('Gray train',x_trainGray.shape)\n",
    "print('Gray test',x_testGray.shape)"
   ]
  },
  {
   "cell_type": "code",
   "execution_count": 150,
   "metadata": {},
   "outputs": [],
   "source": [
    "dropout = 0.2\n",
    "batch_size = 128"
   ]
  },
  {
   "cell_type": "code",
   "execution_count": 151,
   "metadata": {},
   "outputs": [],
   "source": [
    "model = Sequential()\n",
    "model.add(Dense(128, input_dim=32*32))\n",
    "model.add(Activation('relu'))\n",
    "model.add(Dropout(dropout))\n",
    "model.add(Dense(16))\n",
    "model.add(Activation('relu'))\n",
    "model.add(Dropout(dropout))\n",
    "model.add(Dense(1))\n",
    "model.add(Activation('sigmoid'))"
   ]
  },
  {
   "cell_type": "code",
   "execution_count": 152,
   "metadata": {},
   "outputs": [
    {
     "name": "stdout",
     "output_type": "stream",
     "text": [
      "Model: \"sequential_5\"\n",
      "_________________________________________________________________\n",
      "Layer (type)                 Output Shape              Param #   \n",
      "=================================================================\n",
      "dense_15 (Dense)             (None, 128)               131200    \n",
      "_________________________________________________________________\n",
      "activation_14 (Activation)   (None, 128)               0         \n",
      "_________________________________________________________________\n",
      "dropout_10 (Dropout)         (None, 128)               0         \n",
      "_________________________________________________________________\n",
      "dense_16 (Dense)             (None, 16)                2064      \n",
      "_________________________________________________________________\n",
      "activation_15 (Activation)   (None, 16)                0         \n",
      "_________________________________________________________________\n",
      "dropout_11 (Dropout)         (None, 16)                0         \n",
      "_________________________________________________________________\n",
      "dense_17 (Dense)             (None, 1)                 17        \n",
      "_________________________________________________________________\n",
      "activation_16 (Activation)   (None, 1)                 0         \n",
      "=================================================================\n",
      "Total params: 133,281\n",
      "Trainable params: 133,281\n",
      "Non-trainable params: 0\n",
      "_________________________________________________________________\n"
     ]
    }
   ],
   "source": [
    "model.summary()"
   ]
  },
  {
   "cell_type": "code",
   "execution_count": 153,
   "metadata": {},
   "outputs": [
    {
     "name": "stdout",
     "output_type": "stream",
     "text": [
      "Failed to import pydot. You must install pydot and graphviz for `pydotprint` to work.\n"
     ]
    }
   ],
   "source": [
    "plot_model(model, to_file='ann-cat-dog.png', show_shapes=True)"
   ]
  },
  {
   "cell_type": "code",
   "execution_count": 154,
   "metadata": {},
   "outputs": [],
   "source": [
    "model.compile(loss='binary_crossentropy', \n",
    "              optimizer='adam',\n",
    "              metrics=['accuracy'])"
   ]
  },
  {
   "cell_type": "code",
   "execution_count": 155,
   "metadata": {},
   "outputs": [
    {
     "name": "stdout",
     "output_type": "stream",
     "text": [
      "(8000, 1024)\n",
      "Epoch 1/100\n",
      "50/50 [==============================] - 0s 6ms/step - loss: 0.6956 - accuracy: 0.5102 - val_loss: 0.6910 - val_accuracy: 0.5587\n",
      "Epoch 2/100\n",
      "50/50 [==============================] - 0s 4ms/step - loss: 0.6895 - accuracy: 0.5347 - val_loss: 0.6832 - val_accuracy: 0.5600\n",
      "Epoch 3/100\n",
      "50/50 [==============================] - 0s 4ms/step - loss: 0.6839 - accuracy: 0.5531 - val_loss: 0.6818 - val_accuracy: 0.5694\n",
      "Epoch 4/100\n",
      "50/50 [==============================] - 0s 4ms/step - loss: 0.6807 - accuracy: 0.5659 - val_loss: 0.6716 - val_accuracy: 0.5769\n",
      "Epoch 5/100\n",
      "50/50 [==============================] - 0s 4ms/step - loss: 0.6764 - accuracy: 0.5736 - val_loss: 0.6699 - val_accuracy: 0.5719\n",
      "Epoch 6/100\n",
      "50/50 [==============================] - 0s 4ms/step - loss: 0.6768 - accuracy: 0.5612 - val_loss: 0.6780 - val_accuracy: 0.5669\n",
      "Epoch 7/100\n",
      "50/50 [==============================] - 0s 4ms/step - loss: 0.6689 - accuracy: 0.5853 - val_loss: 0.6723 - val_accuracy: 0.5788\n",
      "Epoch 8/100\n",
      "50/50 [==============================] - 0s 4ms/step - loss: 0.6681 - accuracy: 0.5841 - val_loss: 0.6685 - val_accuracy: 0.5788\n",
      "Epoch 9/100\n",
      "50/50 [==============================] - 0s 4ms/step - loss: 0.6660 - accuracy: 0.5873 - val_loss: 0.6623 - val_accuracy: 0.5906\n",
      "Epoch 10/100\n",
      "50/50 [==============================] - 0s 4ms/step - loss: 0.6706 - accuracy: 0.5805 - val_loss: 0.6732 - val_accuracy: 0.5519\n",
      "Epoch 11/100\n",
      "50/50 [==============================] - 0s 4ms/step - loss: 0.6633 - accuracy: 0.5895 - val_loss: 0.6744 - val_accuracy: 0.5531\n",
      "Epoch 12/100\n",
      "50/50 [==============================] - 0s 4ms/step - loss: 0.6639 - accuracy: 0.5833 - val_loss: 0.6589 - val_accuracy: 0.5994\n",
      "Epoch 13/100\n",
      "50/50 [==============================] - 0s 4ms/step - loss: 0.6643 - accuracy: 0.5875 - val_loss: 0.6617 - val_accuracy: 0.5763\n",
      "Epoch 14/100\n",
      "50/50 [==============================] - 0s 4ms/step - loss: 0.6624 - accuracy: 0.5948 - val_loss: 0.6614 - val_accuracy: 0.5850\n",
      "Epoch 15/100\n",
      "50/50 [==============================] - 0s 4ms/step - loss: 0.6591 - accuracy: 0.5966 - val_loss: 0.6589 - val_accuracy: 0.5925\n",
      "Epoch 16/100\n",
      "50/50 [==============================] - 0s 4ms/step - loss: 0.6567 - accuracy: 0.5959 - val_loss: 0.6569 - val_accuracy: 0.5925\n",
      "Epoch 17/100\n",
      "50/50 [==============================] - 0s 4ms/step - loss: 0.6556 - accuracy: 0.5978 - val_loss: 0.6585 - val_accuracy: 0.5769\n",
      "Epoch 18/100\n",
      "50/50 [==============================] - 0s 4ms/step - loss: 0.6572 - accuracy: 0.5984 - val_loss: 0.6684 - val_accuracy: 0.5600\n",
      "Epoch 19/100\n",
      "50/50 [==============================] - 0s 4ms/step - loss: 0.6516 - accuracy: 0.5967 - val_loss: 0.6595 - val_accuracy: 0.5881\n",
      "Epoch 20/100\n",
      "50/50 [==============================] - 0s 4ms/step - loss: 0.6547 - accuracy: 0.5998 - val_loss: 0.6642 - val_accuracy: 0.5600\n",
      "Epoch 21/100\n",
      "50/50 [==============================] - 0s 4ms/step - loss: 0.6508 - accuracy: 0.6044 - val_loss: 0.6649 - val_accuracy: 0.5744\n",
      "Epoch 22/100\n",
      "50/50 [==============================] - 0s 4ms/step - loss: 0.6509 - accuracy: 0.6019 - val_loss: 0.6568 - val_accuracy: 0.5875\n",
      "Epoch 23/100\n",
      "50/50 [==============================] - 0s 5ms/step - loss: 0.6490 - accuracy: 0.6080 - val_loss: 0.6544 - val_accuracy: 0.5981\n",
      "Epoch 24/100\n",
      "50/50 [==============================] - 0s 4ms/step - loss: 0.6503 - accuracy: 0.6025 - val_loss: 0.6636 - val_accuracy: 0.5888\n",
      "Epoch 25/100\n",
      "50/50 [==============================] - 0s 4ms/step - loss: 0.6513 - accuracy: 0.5966 - val_loss: 0.6546 - val_accuracy: 0.5938\n",
      "Epoch 26/100\n",
      "50/50 [==============================] - 0s 4ms/step - loss: 0.6474 - accuracy: 0.6002 - val_loss: 0.6618 - val_accuracy: 0.5794\n",
      "Epoch 27/100\n",
      "50/50 [==============================] - 0s 4ms/step - loss: 0.6453 - accuracy: 0.6097 - val_loss: 0.6654 - val_accuracy: 0.5594\n",
      "Epoch 28/100\n",
      "50/50 [==============================] - 0s 5ms/step - loss: 0.6447 - accuracy: 0.6119 - val_loss: 0.6523 - val_accuracy: 0.5981\n",
      "Epoch 29/100\n",
      "50/50 [==============================] - 0s 4ms/step - loss: 0.6411 - accuracy: 0.6109 - val_loss: 0.6578 - val_accuracy: 0.5944\n",
      "Epoch 30/100\n",
      "50/50 [==============================] - 0s 4ms/step - loss: 0.6402 - accuracy: 0.6144 - val_loss: 0.6531 - val_accuracy: 0.5969\n",
      "Epoch 31/100\n",
      "50/50 [==============================] - 0s 4ms/step - loss: 0.6363 - accuracy: 0.6170 - val_loss: 0.6617 - val_accuracy: 0.5869\n",
      "Epoch 32/100\n",
      "50/50 [==============================] - 0s 4ms/step - loss: 0.6372 - accuracy: 0.6186 - val_loss: 0.6519 - val_accuracy: 0.5944\n",
      "Epoch 33/100\n",
      "50/50 [==============================] - 0s 4ms/step - loss: 0.6370 - accuracy: 0.6195 - val_loss: 0.6565 - val_accuracy: 0.5938\n",
      "Epoch 34/100\n",
      "50/50 [==============================] - 0s 4ms/step - loss: 0.6375 - accuracy: 0.6214 - val_loss: 0.6646 - val_accuracy: 0.5944\n",
      "Epoch 35/100\n",
      "50/50 [==============================] - 0s 4ms/step - loss: 0.6368 - accuracy: 0.6103 - val_loss: 0.6549 - val_accuracy: 0.5962\n",
      "Epoch 36/100\n",
      "50/50 [==============================] - 0s 4ms/step - loss: 0.6315 - accuracy: 0.6178 - val_loss: 0.6521 - val_accuracy: 0.5975\n",
      "Epoch 37/100\n",
      "50/50 [==============================] - 0s 4ms/step - loss: 0.6390 - accuracy: 0.6058 - val_loss: 0.6602 - val_accuracy: 0.5825\n",
      "Epoch 38/100\n",
      "50/50 [==============================] - 0s 4ms/step - loss: 0.6374 - accuracy: 0.6167 - val_loss: 0.6610 - val_accuracy: 0.5719\n",
      "Epoch 39/100\n",
      "50/50 [==============================] - 0s 4ms/step - loss: 0.6312 - accuracy: 0.6200 - val_loss: 0.6594 - val_accuracy: 0.5800\n",
      "Epoch 40/100\n",
      "50/50 [==============================] - 0s 4ms/step - loss: 0.6292 - accuracy: 0.6200 - val_loss: 0.6540 - val_accuracy: 0.5938\n",
      "Epoch 41/100\n",
      "50/50 [==============================] - 0s 4ms/step - loss: 0.6272 - accuracy: 0.6278 - val_loss: 0.6531 - val_accuracy: 0.5975\n",
      "Epoch 42/100\n",
      "50/50 [==============================] - 0s 4ms/step - loss: 0.6246 - accuracy: 0.6342 - val_loss: 0.6571 - val_accuracy: 0.5931\n",
      "Epoch 43/100\n",
      "50/50 [==============================] - 0s 4ms/step - loss: 0.6278 - accuracy: 0.6209 - val_loss: 0.6551 - val_accuracy: 0.5906\n",
      "Epoch 44/100\n",
      "50/50 [==============================] - 0s 4ms/step - loss: 0.6230 - accuracy: 0.6275 - val_loss: 0.6687 - val_accuracy: 0.5788\n",
      "Epoch 45/100\n",
      "50/50 [==============================] - 0s 4ms/step - loss: 0.6257 - accuracy: 0.6231 - val_loss: 0.6552 - val_accuracy: 0.5931\n",
      "Epoch 46/100\n",
      "50/50 [==============================] - 0s 4ms/step - loss: 0.6239 - accuracy: 0.6281 - val_loss: 0.6612 - val_accuracy: 0.5763\n",
      "Epoch 47/100\n",
      "50/50 [==============================] - 0s 4ms/step - loss: 0.6233 - accuracy: 0.6284 - val_loss: 0.6593 - val_accuracy: 0.5962\n",
      "Epoch 48/100\n",
      "50/50 [==============================] - 0s 4ms/step - loss: 0.6194 - accuracy: 0.6322 - val_loss: 0.6588 - val_accuracy: 0.6019\n",
      "Epoch 49/100\n",
      "50/50 [==============================] - 0s 4ms/step - loss: 0.6158 - accuracy: 0.6383 - val_loss: 0.6626 - val_accuracy: 0.5675\n",
      "Epoch 50/100\n",
      "50/50 [==============================] - 0s 5ms/step - loss: 0.6182 - accuracy: 0.6300 - val_loss: 0.6686 - val_accuracy: 0.5706\n",
      "Epoch 51/100\n",
      "50/50 [==============================] - 0s 4ms/step - loss: 0.6163 - accuracy: 0.6395 - val_loss: 0.6563 - val_accuracy: 0.5919\n",
      "Epoch 52/100\n",
      "50/50 [==============================] - 0s 4ms/step - loss: 0.6173 - accuracy: 0.6405 - val_loss: 0.6573 - val_accuracy: 0.5913\n",
      "Epoch 53/100\n",
      "50/50 [==============================] - 0s 4ms/step - loss: 0.6132 - accuracy: 0.6469 - val_loss: 0.6589 - val_accuracy: 0.5987\n",
      "Epoch 54/100\n",
      "50/50 [==============================] - 0s 4ms/step - loss: 0.6217 - accuracy: 0.6316 - val_loss: 0.6511 - val_accuracy: 0.6062\n",
      "Epoch 55/100\n",
      "50/50 [==============================] - 0s 4ms/step - loss: 0.6154 - accuracy: 0.6381 - val_loss: 0.6675 - val_accuracy: 0.6012\n",
      "Epoch 56/100\n",
      "50/50 [==============================] - 0s 4ms/step - loss: 0.6090 - accuracy: 0.6481 - val_loss: 0.6665 - val_accuracy: 0.5938\n",
      "Epoch 57/100\n",
      "50/50 [==============================] - 0s 4ms/step - loss: 0.6058 - accuracy: 0.6450 - val_loss: 0.6795 - val_accuracy: 0.5725\n",
      "Epoch 58/100\n",
      "50/50 [==============================] - 0s 4ms/step - loss: 0.6006 - accuracy: 0.6525 - val_loss: 0.6619 - val_accuracy: 0.5969\n",
      "Epoch 59/100\n",
      "50/50 [==============================] - 0s 4ms/step - loss: 0.6114 - accuracy: 0.6447 - val_loss: 0.6664 - val_accuracy: 0.5944\n",
      "Epoch 60/100\n",
      "50/50 [==============================] - 0s 4ms/step - loss: 0.6108 - accuracy: 0.6383 - val_loss: 0.6627 - val_accuracy: 0.5719\n",
      "Epoch 61/100\n",
      "50/50 [==============================] - 0s 4ms/step - loss: 0.5978 - accuracy: 0.6566 - val_loss: 0.6628 - val_accuracy: 0.5888\n",
      "Epoch 62/100\n",
      "50/50 [==============================] - 0s 4ms/step - loss: 0.5984 - accuracy: 0.6502 - val_loss: 0.6725 - val_accuracy: 0.5813\n",
      "Epoch 63/100\n",
      "50/50 [==============================] - 0s 4ms/step - loss: 0.6014 - accuracy: 0.6611 - val_loss: 0.6726 - val_accuracy: 0.5888\n",
      "Epoch 64/100\n",
      "50/50 [==============================] - 0s 4ms/step - loss: 0.6005 - accuracy: 0.6506 - val_loss: 0.6738 - val_accuracy: 0.5881\n",
      "Epoch 65/100\n",
      "50/50 [==============================] - 0s 4ms/step - loss: 0.5951 - accuracy: 0.6612 - val_loss: 0.6600 - val_accuracy: 0.5994\n",
      "Epoch 66/100\n",
      "50/50 [==============================] - 0s 4ms/step - loss: 0.5914 - accuracy: 0.6558 - val_loss: 0.6656 - val_accuracy: 0.5994\n",
      "Epoch 67/100\n",
      "50/50 [==============================] - 0s 4ms/step - loss: 0.5967 - accuracy: 0.6547 - val_loss: 0.6732 - val_accuracy: 0.5900\n",
      "Epoch 68/100\n",
      "50/50 [==============================] - 0s 4ms/step - loss: 0.5905 - accuracy: 0.6637 - val_loss: 0.6688 - val_accuracy: 0.5800\n",
      "Epoch 69/100\n",
      "50/50 [==============================] - 0s 4ms/step - loss: 0.5891 - accuracy: 0.6655 - val_loss: 0.6754 - val_accuracy: 0.6000\n",
      "Epoch 70/100\n",
      "50/50 [==============================] - 0s 4ms/step - loss: 0.5917 - accuracy: 0.6619 - val_loss: 0.6656 - val_accuracy: 0.6106\n",
      "Epoch 71/100\n",
      "50/50 [==============================] - 0s 4ms/step - loss: 0.5978 - accuracy: 0.6478 - val_loss: 0.6731 - val_accuracy: 0.5644\n",
      "Epoch 72/100\n",
      "50/50 [==============================] - 0s 4ms/step - loss: 0.5845 - accuracy: 0.6719 - val_loss: 0.6690 - val_accuracy: 0.5806\n",
      "Epoch 73/100\n",
      "50/50 [==============================] - 0s 4ms/step - loss: 0.5823 - accuracy: 0.6661 - val_loss: 0.6736 - val_accuracy: 0.5969\n",
      "Epoch 74/100\n",
      "50/50 [==============================] - 0s 4ms/step - loss: 0.5873 - accuracy: 0.6698 - val_loss: 0.6877 - val_accuracy: 0.5781\n",
      "Epoch 75/100\n",
      "50/50 [==============================] - 0s 4ms/step - loss: 0.5759 - accuracy: 0.6736 - val_loss: 0.6805 - val_accuracy: 0.6019\n",
      "Epoch 76/100\n",
      "50/50 [==============================] - 0s 4ms/step - loss: 0.5732 - accuracy: 0.6762 - val_loss: 0.6823 - val_accuracy: 0.5919\n",
      "Epoch 77/100\n",
      "50/50 [==============================] - 0s 4ms/step - loss: 0.5692 - accuracy: 0.6811 - val_loss: 0.6784 - val_accuracy: 0.5881\n",
      "Epoch 78/100\n",
      "50/50 [==============================] - 0s 4ms/step - loss: 0.5761 - accuracy: 0.6794 - val_loss: 0.6888 - val_accuracy: 0.5881\n",
      "Epoch 79/100\n",
      "50/50 [==============================] - 0s 4ms/step - loss: 0.5761 - accuracy: 0.6744 - val_loss: 0.6943 - val_accuracy: 0.5881\n",
      "Epoch 80/100\n",
      "50/50 [==============================] - 0s 4ms/step - loss: 0.5738 - accuracy: 0.6783 - val_loss: 0.6747 - val_accuracy: 0.5800\n",
      "Epoch 81/100\n",
      "50/50 [==============================] - 0s 4ms/step - loss: 0.5722 - accuracy: 0.6767 - val_loss: 0.6860 - val_accuracy: 0.5888\n",
      "Epoch 82/100\n",
      "50/50 [==============================] - 0s 4ms/step - loss: 0.5547 - accuracy: 0.6908 - val_loss: 0.7058 - val_accuracy: 0.5913\n",
      "Epoch 83/100\n",
      "50/50 [==============================] - 0s 4ms/step - loss: 0.5534 - accuracy: 0.6952 - val_loss: 0.6949 - val_accuracy: 0.5806\n",
      "Epoch 84/100\n",
      "50/50 [==============================] - 0s 4ms/step - loss: 0.5569 - accuracy: 0.6931 - val_loss: 0.6892 - val_accuracy: 0.5869\n",
      "Epoch 85/100\n",
      "50/50 [==============================] - 0s 4ms/step - loss: 0.5600 - accuracy: 0.6883 - val_loss: 0.6952 - val_accuracy: 0.5875\n",
      "Epoch 86/100\n",
      "50/50 [==============================] - 0s 4ms/step - loss: 0.5564 - accuracy: 0.6892 - val_loss: 0.6897 - val_accuracy: 0.5738\n",
      "Epoch 87/100\n",
      "50/50 [==============================] - 0s 4ms/step - loss: 0.5530 - accuracy: 0.6917 - val_loss: 0.7089 - val_accuracy: 0.5806\n",
      "Epoch 88/100\n",
      "50/50 [==============================] - 0s 4ms/step - loss: 0.5508 - accuracy: 0.6892 - val_loss: 0.7177 - val_accuracy: 0.5844\n",
      "Epoch 89/100\n",
      "50/50 [==============================] - 0s 4ms/step - loss: 0.5553 - accuracy: 0.6934 - val_loss: 0.7251 - val_accuracy: 0.5919\n",
      "Epoch 90/100\n",
      "50/50 [==============================] - 0s 4ms/step - loss: 0.5480 - accuracy: 0.6948 - val_loss: 0.7361 - val_accuracy: 0.5925\n",
      "Epoch 91/100\n",
      "50/50 [==============================] - 0s 4ms/step - loss: 0.5549 - accuracy: 0.6919 - val_loss: 0.7151 - val_accuracy: 0.5875\n",
      "Epoch 92/100\n",
      "50/50 [==============================] - 0s 4ms/step - loss: 0.5609 - accuracy: 0.6903 - val_loss: 0.7014 - val_accuracy: 0.5944\n",
      "Epoch 93/100\n",
      "50/50 [==============================] - 0s 4ms/step - loss: 0.5492 - accuracy: 0.7063 - val_loss: 0.7090 - val_accuracy: 0.5813\n",
      "Epoch 94/100\n",
      "50/50 [==============================] - 0s 4ms/step - loss: 0.5484 - accuracy: 0.6966 - val_loss: 0.7247 - val_accuracy: 0.5900\n",
      "Epoch 95/100\n",
      "50/50 [==============================] - 0s 4ms/step - loss: 0.5488 - accuracy: 0.6934 - val_loss: 0.7205 - val_accuracy: 0.5819\n",
      "Epoch 96/100\n",
      "50/50 [==============================] - 0s 4ms/step - loss: 0.5493 - accuracy: 0.7023 - val_loss: 0.7192 - val_accuracy: 0.5881\n",
      "Epoch 97/100\n",
      "50/50 [==============================] - 0s 4ms/step - loss: 0.5428 - accuracy: 0.7022 - val_loss: 0.7466 - val_accuracy: 0.5925\n",
      "Epoch 98/100\n",
      "50/50 [==============================] - 0s 4ms/step - loss: 0.5424 - accuracy: 0.7019 - val_loss: 0.7165 - val_accuracy: 0.6044\n",
      "Epoch 99/100\n",
      "50/50 [==============================] - 0s 4ms/step - loss: 0.5346 - accuracy: 0.7023 - val_loss: 0.7496 - val_accuracy: 0.5900\n",
      "Epoch 100/100\n",
      "50/50 [==============================] - 0s 4ms/step - loss: 0.5293 - accuracy: 0.7119 - val_loss: 0.7497 - val_accuracy: 0.5838\n"
     ]
    },
    {
     "data": {
      "text/plain": [
       "<tensorflow.python.keras.callbacks.History at 0x2875bded340>"
      ]
     },
     "execution_count": 155,
     "metadata": {},
     "output_type": "execute_result"
    }
   ],
   "source": [
    "x_traininp = x_trainGray.reshape(8000,-1) \n",
    "print(x_traininp.shape)\n",
    "model.fit(x=x_traininp,y= y_train, epochs=100, batch_size=batch_size,validation_split=0.2)"
   ]
  },
  {
   "cell_type": "code",
   "execution_count": 156,
   "metadata": {},
   "outputs": [
    {
     "name": "stdout",
     "output_type": "stream",
     "text": [
      "16/16 [==============================] - 0s 2ms/step - loss: 0.7656 - accuracy: 0.5995\n",
      "\n",
      "Test accuracy: 60.0%\n"
     ]
    }
   ],
   "source": [
    "x_testinp = x_testGray.reshape(2000,-1)\n",
    "loss, acc = model.evaluate(x_testinp, y_test, batch_size=batch_size)\n",
    "print(\"\\nTest accuracy: %.1f%%\" % (100.0 * acc))"
   ]
  },
  {
   "cell_type": "code",
   "execution_count": 91,
   "metadata": {},
   "outputs": [],
   "source": [
    "## CNN"
   ]
  },
  {
   "cell_type": "code",
   "execution_count": 92,
   "metadata": {},
   "outputs": [],
   "source": [
    "from keras.layers import Flatten, Conv2D, MaxPool2D\n",
    "from sklearn.metrics import confusion_matrix"
   ]
  },
  {
   "cell_type": "code",
   "execution_count": 161,
   "metadata": {},
   "outputs": [],
   "source": [
    "model = Sequential()\n",
    "\n",
    "model.add(Conv2D(filters = 32, kernel_size = (5,5),padding = 'Same', \n",
    "                 activation ='relu', input_shape = (32,32,3)))\n",
    "model.add(Conv2D(filters = 32, kernel_size = (5,5),padding = 'Same', \n",
    "                 activation ='relu'))\n",
    "model.add(MaxPool2D(pool_size=(2,2)))\n",
    "model.add(Dropout(0.25))\n",
    "\n",
    "\n",
    "model.add(Conv2D(filters = 64, kernel_size = (3,3),padding = 'Same', \n",
    "                 activation ='relu'))\n",
    "model.add(Conv2D(filters = 64, kernel_size = (3,3),padding = 'Same', \n",
    "                 activation ='relu'))\n",
    "model.add(MaxPool2D(pool_size=(2,2), strides=(2,2)))\n",
    "model.add(Dropout(0.25))\n",
    "\n",
    "\n",
    "model.add(Flatten())\n",
    "model.add(Dense(256, activation = \"relu\"))\n",
    "model.add(Dropout(0.3))\n",
    "model.add(Dense(1, activation = \"sigmoid\"))"
   ]
  },
  {
   "cell_type": "code",
   "execution_count": 162,
   "metadata": {},
   "outputs": [],
   "source": [
    "model.compile(optimizer = 'adam' , loss = \"binary_crossentropy\", metrics=[\"accuracy\"])"
   ]
  },
  {
   "cell_type": "code",
   "execution_count": 163,
   "metadata": {},
   "outputs": [
    {
     "name": "stdout",
     "output_type": "stream",
     "text": [
      "Epoch 1/25\n",
      "50/50 [==============================] - 32s 643ms/step - loss: 0.6873 - accuracy: 0.5519 - val_loss: 0.6760 - val_accuracy: 0.5694\n",
      "Epoch 2/25\n",
      "50/50 [==============================] - 44s 882ms/step - loss: 0.6599 - accuracy: 0.6073 - val_loss: 0.6533 - val_accuracy: 0.6212\n",
      "Epoch 3/25\n",
      "50/50 [==============================] - 41s 825ms/step - loss: 0.6249 - accuracy: 0.6480 - val_loss: 0.6125 - val_accuracy: 0.6413\n",
      "Epoch 4/25\n",
      "50/50 [==============================] - 36s 717ms/step - loss: 0.5847 - accuracy: 0.6862 - val_loss: 0.5922 - val_accuracy: 0.6681\n",
      "Epoch 5/25\n",
      "50/50 [==============================] - 35s 709ms/step - loss: 0.5608 - accuracy: 0.7009 - val_loss: 0.5753 - val_accuracy: 0.6894\n",
      "Epoch 6/25\n",
      "50/50 [==============================] - 36s 712ms/step - loss: 0.5371 - accuracy: 0.7339 - val_loss: 0.5804 - val_accuracy: 0.6831\n",
      "Epoch 7/25\n",
      "50/50 [==============================] - 35s 704ms/step - loss: 0.5111 - accuracy: 0.7489 - val_loss: 0.5456 - val_accuracy: 0.7150\n",
      "Epoch 8/25\n",
      "50/50 [==============================] - 35s 709ms/step - loss: 0.4830 - accuracy: 0.7628 - val_loss: 0.5438 - val_accuracy: 0.7144\n",
      "Epoch 9/25\n",
      "50/50 [==============================] - 35s 707ms/step - loss: 0.4554 - accuracy: 0.7812 - val_loss: 0.5354 - val_accuracy: 0.7231\n",
      "Epoch 10/25\n",
      "50/50 [==============================] - 35s 707ms/step - loss: 0.4376 - accuracy: 0.7889 - val_loss: 0.5438 - val_accuracy: 0.7262\n",
      "Epoch 11/25\n",
      "50/50 [==============================] - 35s 710ms/step - loss: 0.4198 - accuracy: 0.8019 - val_loss: 0.5196 - val_accuracy: 0.7375\n",
      "Epoch 12/25\n",
      "50/50 [==============================] - 36s 713ms/step - loss: 0.3858 - accuracy: 0.8217 - val_loss: 0.5269 - val_accuracy: 0.7306\n",
      "Epoch 13/25\n",
      "50/50 [==============================] - 36s 716ms/step - loss: 0.3684 - accuracy: 0.8266 - val_loss: 0.5295 - val_accuracy: 0.7412\n",
      "Epoch 14/25\n",
      "50/50 [==============================] - 35s 705ms/step - loss: 0.3473 - accuracy: 0.8438 - val_loss: 0.5548 - val_accuracy: 0.7469\n",
      "Epoch 15/25\n",
      "50/50 [==============================] - 38s 757ms/step - loss: 0.3062 - accuracy: 0.8703 - val_loss: 0.5711 - val_accuracy: 0.7500\n",
      "Epoch 16/25\n",
      "50/50 [==============================] - 44s 889ms/step - loss: 0.2748 - accuracy: 0.8788 - val_loss: 0.5654 - val_accuracy: 0.7287\n",
      "Epoch 17/25\n",
      "50/50 [==============================] - 43s 859ms/step - loss: 0.2581 - accuracy: 0.8909 - val_loss: 0.6000 - val_accuracy: 0.7513\n",
      "Epoch 18/25\n",
      "50/50 [==============================] - 38s 756ms/step - loss: 0.2374 - accuracy: 0.9047 - val_loss: 0.6285 - val_accuracy: 0.7431\n",
      "Epoch 19/25\n",
      "50/50 [==============================] - 40s 806ms/step - loss: 0.2094 - accuracy: 0.9177 - val_loss: 0.6878 - val_accuracy: 0.7475\n",
      "Epoch 20/25\n",
      "50/50 [==============================] - 40s 794ms/step - loss: 0.1857 - accuracy: 0.9227 - val_loss: 0.6666 - val_accuracy: 0.7500\n",
      "Epoch 21/25\n",
      "50/50 [==============================] - 42s 848ms/step - loss: 0.1637 - accuracy: 0.9375 - val_loss: 0.7470 - val_accuracy: 0.7450\n",
      "Epoch 22/25\n",
      "50/50 [==============================] - 40s 808ms/step - loss: 0.1301 - accuracy: 0.9511 - val_loss: 0.7973 - val_accuracy: 0.7506\n",
      "Epoch 23/25\n",
      "50/50 [==============================] - 45s 906ms/step - loss: 0.1235 - accuracy: 0.9548 - val_loss: 0.7635 - val_accuracy: 0.7494\n",
      "Epoch 24/25\n",
      "50/50 [==============================] - 40s 790ms/step - loss: 0.1146 - accuracy: 0.9584 - val_loss: 0.8301 - val_accuracy: 0.7563\n",
      "Epoch 25/25\n",
      "50/50 [==============================] - 38s 768ms/step - loss: 0.0954 - accuracy: 0.9648 - val_loss: 0.8028 - val_accuracy: 0.7638\n"
     ]
    },
    {
     "data": {
      "text/plain": [
       "<tensorflow.python.keras.callbacks.History at 0x2875c901430>"
      ]
     },
     "execution_count": 163,
     "metadata": {},
     "output_type": "execute_result"
    }
   ],
   "source": [
    "model.fit(x_trainImgs,y_train,epochs=25, batch_size=batch_size,validation_split=0.2)"
   ]
  },
  {
   "cell_type": "code",
   "execution_count": 164,
   "metadata": {},
   "outputs": [
    {
     "name": "stdout",
     "output_type": "stream",
     "text": [
      "16/16 [==============================] - 2s 144ms/step - loss: 0.8616 - accuracy: 0.7595\n",
      "\n",
      "Test accuracy: 76.0%\n"
     ]
    }
   ],
   "source": [
    "loss, acc = model.evaluate(x_testImgs, y_test, batch_size=batch_size)\n",
    "print(\"\\nTest accuracy: %.1f%%\" % (100.0 * acc))"
   ]
  },
  {
   "cell_type": "code",
   "execution_count": 165,
   "metadata": {},
   "outputs": [
    {
     "name": "stdout",
     "output_type": "stream",
     "text": [
      "Failed to import pydot. You must install pydot and graphviz for `pydotprint` to work.\n"
     ]
    }
   ],
   "source": [
    "plot_model(model, to_file='cnn-cat-dog.png', show_shapes=True)"
   ]
  },
  {
   "cell_type": "code",
   "execution_count": null,
   "metadata": {},
   "outputs": [],
   "source": []
  }
 ],
 "metadata": {
  "kernelspec": {
   "display_name": "Python 3",
   "language": "python",
   "name": "python3"
  },
  "language_info": {
   "codemirror_mode": {
    "name": "ipython",
    "version": 3
   },
   "file_extension": ".py",
   "mimetype": "text/x-python",
   "name": "python",
   "nbconvert_exporter": "python",
   "pygments_lexer": "ipython3",
   "version": "3.8.3"
  }
 },
 "nbformat": 4,
 "nbformat_minor": 4
}
