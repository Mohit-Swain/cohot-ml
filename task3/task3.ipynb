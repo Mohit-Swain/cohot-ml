{
 "cells": [
  {
   "cell_type": "code",
   "execution_count": 1,
   "metadata": {},
   "outputs": [],
   "source": [
    "import os\n",
    "from PIL import Image as im\n",
    "import pandas as pd\n",
    "import numpy as np\n",
    "import matplotlib.pyplot as plt\n",
    "%matplotlib inline"
   ]
  },
  {
   "cell_type": "code",
   "execution_count": 2,
   "metadata": {},
   "outputs": [],
   "source": [
    "train_labels = pd.read_csv('Machine Learning Task/train_labels.csv')\n",
    "test_labels = pd.read_csv('Machine Learning Task/test_labels.csv')"
   ]
  },
  {
   "cell_type": "code",
   "execution_count": 3,
   "metadata": {},
   "outputs": [
    {
     "data": {
      "text/html": [
       "<div>\n",
       "<style scoped>\n",
       "    .dataframe tbody tr th:only-of-type {\n",
       "        vertical-align: middle;\n",
       "    }\n",
       "\n",
       "    .dataframe tbody tr th {\n",
       "        vertical-align: top;\n",
       "    }\n",
       "\n",
       "    .dataframe thead th {\n",
       "        text-align: right;\n",
       "    }\n",
       "</style>\n",
       "<table border=\"1\" class=\"dataframe\">\n",
       "  <thead>\n",
       "    <tr style=\"text-align: right;\">\n",
       "      <th></th>\n",
       "      <th>id</th>\n",
       "      <th>label</th>\n",
       "    </tr>\n",
       "  </thead>\n",
       "  <tbody>\n",
       "    <tr>\n",
       "      <th>0</th>\n",
       "      <td>10</td>\n",
       "      <td>cat</td>\n",
       "    </tr>\n",
       "    <tr>\n",
       "      <th>1</th>\n",
       "      <td>18</td>\n",
       "      <td>cat</td>\n",
       "    </tr>\n",
       "    <tr>\n",
       "      <th>2</th>\n",
       "      <td>22</td>\n",
       "      <td>cat</td>\n",
       "    </tr>\n",
       "    <tr>\n",
       "      <th>3</th>\n",
       "      <td>27</td>\n",
       "      <td>cat</td>\n",
       "    </tr>\n",
       "    <tr>\n",
       "      <th>4</th>\n",
       "      <td>34</td>\n",
       "      <td>cat</td>\n",
       "    </tr>\n",
       "  </tbody>\n",
       "</table>\n",
       "</div>"
      ],
      "text/plain": [
       "   id label\n",
       "0  10   cat\n",
       "1  18   cat\n",
       "2  22   cat\n",
       "3  27   cat\n",
       "4  34   cat"
      ]
     },
     "execution_count": 3,
     "metadata": {},
     "output_type": "execute_result"
    }
   ],
   "source": [
    "train_labels.head()"
   ]
  },
  {
   "cell_type": "code",
   "execution_count": 4,
   "metadata": {},
   "outputs": [
    {
     "data": {
      "text/plain": [
       "(8000, 2)"
      ]
     },
     "execution_count": 4,
     "metadata": {},
     "output_type": "execute_result"
    }
   ],
   "source": [
    "train_labels.shape"
   ]
  },
  {
   "cell_type": "code",
   "execution_count": 5,
   "metadata": {},
   "outputs": [
    {
     "data": {
      "text/html": [
       "<div>\n",
       "<style scoped>\n",
       "    .dataframe tbody tr th:only-of-type {\n",
       "        vertical-align: middle;\n",
       "    }\n",
       "\n",
       "    .dataframe tbody tr th {\n",
       "        vertical-align: top;\n",
       "    }\n",
       "\n",
       "    .dataframe thead th {\n",
       "        text-align: right;\n",
       "    }\n",
       "</style>\n",
       "<table border=\"1\" class=\"dataframe\">\n",
       "  <thead>\n",
       "    <tr style=\"text-align: right;\">\n",
       "      <th></th>\n",
       "      <th>id</th>\n",
       "      <th>label</th>\n",
       "    </tr>\n",
       "  </thead>\n",
       "  <tbody>\n",
       "    <tr>\n",
       "      <th>0</th>\n",
       "      <td>40217</td>\n",
       "      <td>cat</td>\n",
       "    </tr>\n",
       "    <tr>\n",
       "      <th>1</th>\n",
       "      <td>40227</td>\n",
       "      <td>cat</td>\n",
       "    </tr>\n",
       "    <tr>\n",
       "      <th>2</th>\n",
       "      <td>40228</td>\n",
       "      <td>cat</td>\n",
       "    </tr>\n",
       "    <tr>\n",
       "      <th>3</th>\n",
       "      <td>40233</td>\n",
       "      <td>cat</td>\n",
       "    </tr>\n",
       "    <tr>\n",
       "      <th>4</th>\n",
       "      <td>40247</td>\n",
       "      <td>cat</td>\n",
       "    </tr>\n",
       "  </tbody>\n",
       "</table>\n",
       "</div>"
      ],
      "text/plain": [
       "      id label\n",
       "0  40217   cat\n",
       "1  40227   cat\n",
       "2  40228   cat\n",
       "3  40233   cat\n",
       "4  40247   cat"
      ]
     },
     "execution_count": 5,
     "metadata": {},
     "output_type": "execute_result"
    }
   ],
   "source": [
    "test_labels.head()"
   ]
  },
  {
   "cell_type": "code",
   "execution_count": 6,
   "metadata": {},
   "outputs": [
    {
     "data": {
      "text/plain": [
       "(2000, 2)"
      ]
     },
     "execution_count": 6,
     "metadata": {},
     "output_type": "execute_result"
    }
   ],
   "source": [
    "test_labels.shape"
   ]
  },
  {
   "cell_type": "code",
   "execution_count": 7,
   "metadata": {},
   "outputs": [],
   "source": [
    "mapping = {'cat' : 0, 'dog' : 1}\n",
    "train_labels['label'] = train_labels['label'] == 'dog'\n",
    "test_labels['label'] = test_labels['label'] == 'dog'"
   ]
  },
  {
   "cell_type": "code",
   "execution_count": 8,
   "metadata": {},
   "outputs": [
    {
     "data": {
      "text/html": [
       "<div>\n",
       "<style scoped>\n",
       "    .dataframe tbody tr th:only-of-type {\n",
       "        vertical-align: middle;\n",
       "    }\n",
       "\n",
       "    .dataframe tbody tr th {\n",
       "        vertical-align: top;\n",
       "    }\n",
       "\n",
       "    .dataframe thead th {\n",
       "        text-align: right;\n",
       "    }\n",
       "</style>\n",
       "<table border=\"1\" class=\"dataframe\">\n",
       "  <thead>\n",
       "    <tr style=\"text-align: right;\">\n",
       "      <th></th>\n",
       "      <th>id</th>\n",
       "      <th>label</th>\n",
       "    </tr>\n",
       "  </thead>\n",
       "  <tbody>\n",
       "    <tr>\n",
       "      <th>0</th>\n",
       "      <td>10</td>\n",
       "      <td>False</td>\n",
       "    </tr>\n",
       "    <tr>\n",
       "      <th>1</th>\n",
       "      <td>18</td>\n",
       "      <td>False</td>\n",
       "    </tr>\n",
       "    <tr>\n",
       "      <th>2</th>\n",
       "      <td>22</td>\n",
       "      <td>False</td>\n",
       "    </tr>\n",
       "    <tr>\n",
       "      <th>3</th>\n",
       "      <td>27</td>\n",
       "      <td>False</td>\n",
       "    </tr>\n",
       "    <tr>\n",
       "      <th>4</th>\n",
       "      <td>34</td>\n",
       "      <td>False</td>\n",
       "    </tr>\n",
       "  </tbody>\n",
       "</table>\n",
       "</div>"
      ],
      "text/plain": [
       "   id  label\n",
       "0  10  False\n",
       "1  18  False\n",
       "2  22  False\n",
       "3  27  False\n",
       "4  34  False"
      ]
     },
     "execution_count": 8,
     "metadata": {},
     "output_type": "execute_result"
    }
   ],
   "source": [
    "train_labels.head()"
   ]
  },
  {
   "cell_type": "code",
   "execution_count": 9,
   "metadata": {},
   "outputs": [
    {
     "name": "stdout",
     "output_type": "stream",
     "text": [
      "[[   10     0]\n",
      " [   18     0]\n",
      " [   22     0]\n",
      " ...\n",
      " [40311     1]\n",
      " [40332     1]\n",
      " [40352     1]]\n"
     ]
    }
   ],
   "source": [
    "train = train_labels.to_numpy(dtype='int32')\n",
    "test = test_labels.to_numpy(dtype='int32')\n",
    "print(train)"
   ]
  },
  {
   "cell_type": "code",
   "execution_count": 10,
   "metadata": {},
   "outputs": [
    {
     "name": "stdout",
     "output_type": "stream",
     "text": [
      "[[ 6608     0]\n",
      " [35113     1]\n",
      " [34491     0]\n",
      " ...\n",
      " [ 1077     0]\n",
      " [24191     1]\n",
      " [ 1272     0]]\n"
     ]
    }
   ],
   "source": [
    "#shuffle array\n",
    "np.random.shuffle(train)\n",
    "print(train)"
   ]
  },
  {
   "cell_type": "code",
   "execution_count": 11,
   "metadata": {},
   "outputs": [],
   "source": [
    "x_train,y_train = train.T\n",
    "x_test,y_test = test.T"
   ]
  },
  {
   "cell_type": "code",
   "execution_count": 12,
   "metadata": {},
   "outputs": [],
   "source": [
    "x_train = np.array(x_train)\n",
    "y_train = np.array(y_train)\n",
    "x_test = np.array(x_test)\n",
    "y_test = np.array(y_test)"
   ]
  },
  {
   "cell_type": "code",
   "execution_count": null,
   "metadata": {},
   "outputs": [],
   "source": []
  },
  {
   "cell_type": "code",
   "execution_count": 13,
   "metadata": {},
   "outputs": [],
   "source": [
    "x_trainImgs = []\n",
    "x_testImgs = []\n",
    "for img_name in x_train:\n",
    "    name = str(img_name)+'.png'\n",
    "    x_trainImgs.append(np.array(im.open(os.path.join('Machine Learning Task','train_data',name))))\n",
    "\n",
    "for img_name in x_test:\n",
    "    name = str(img_name)+'.png'\n",
    "    x_testImgs.append(np.array(im.open(os.path.join('Machine Learning Task','test_data',name))))\n",
    "    \n",
    "x_trainImgs = np.array(x_trainImgs)\n",
    "x_testImgs = np.array(x_testImgs)"
   ]
  },
  {
   "cell_type": "code",
   "execution_count": 14,
   "metadata": {},
   "outputs": [],
   "source": [
    "x_trainImgs = x_trainImgs /255.0\n",
    "x_testImgs = x_testImgs / 255.0"
   ]
  },
  {
   "cell_type": "code",
   "execution_count": 15,
   "metadata": {},
   "outputs": [
    {
     "name": "stdout",
     "output_type": "stream",
     "text": [
      "train (8000, 32, 32, 3)\n",
      "test (2000, 32, 32, 3)\n"
     ]
    }
   ],
   "source": [
    "print('train',x_trainImgs.shape)\n",
    "print('test',x_testImgs.shape)"
   ]
  },
  {
   "cell_type": "code",
   "execution_count": 16,
   "metadata": {},
   "outputs": [
    {
     "name": "stderr",
     "output_type": "stream",
     "text": [
      "Using TensorFlow backend.\n"
     ]
    }
   ],
   "source": [
    "from keras.models import Sequential\n",
    "from keras.layers import Dense, Activation, Dropout\n",
    "from keras.utils import to_categorical, plot_model\n",
    "import os"
   ]
  },
  {
   "cell_type": "code",
   "execution_count": 17,
   "metadata": {},
   "outputs": [
    {
     "name": "stdout",
     "output_type": "stream",
     "text": [
      "Gray train (8000, 32, 32, 1)\n",
      "Gray test (2000, 32, 32, 1)\n"
     ]
    }
   ],
   "source": [
    "x_trainGray = x_trainImgs.mean(axis=-1).reshape(-1,32,32,1)\n",
    "x_testGray = x_testImgs.mean(axis=-1).reshape(-1,32,32,1)\n",
    "print('Gray train',x_trainGray.shape)\n",
    "print('Gray test',x_testGray.shape)"
   ]
  },
  {
   "cell_type": "code",
   "execution_count": 18,
   "metadata": {},
   "outputs": [],
   "source": [
    "dropout = 0.2\n",
    "batch_size = 128"
   ]
  },
  {
   "cell_type": "code",
   "execution_count": 19,
   "metadata": {},
   "outputs": [],
   "source": [
    "model = Sequential()\n",
    "model.add(Dense(128, input_dim=32*32))\n",
    "model.add(Activation('relu'))\n",
    "model.add(Dropout(dropout))\n",
    "model.add(Dense(16))\n",
    "model.add(Activation('relu'))\n",
    "model.add(Dropout(dropout))\n",
    "model.add(Dense(1))\n",
    "model.add(Activation('sigmoid'))"
   ]
  },
  {
   "cell_type": "code",
   "execution_count": 20,
   "metadata": {},
   "outputs": [
    {
     "name": "stdout",
     "output_type": "stream",
     "text": [
      "Model: \"sequential\"\n",
      "_________________________________________________________________\n",
      "Layer (type)                 Output Shape              Param #   \n",
      "=================================================================\n",
      "dense (Dense)                (None, 128)               131200    \n",
      "_________________________________________________________________\n",
      "activation (Activation)      (None, 128)               0         \n",
      "_________________________________________________________________\n",
      "dropout (Dropout)            (None, 128)               0         \n",
      "_________________________________________________________________\n",
      "dense_1 (Dense)              (None, 16)                2064      \n",
      "_________________________________________________________________\n",
      "activation_1 (Activation)    (None, 16)                0         \n",
      "_________________________________________________________________\n",
      "dropout_1 (Dropout)          (None, 16)                0         \n",
      "_________________________________________________________________\n",
      "dense_2 (Dense)              (None, 1)                 17        \n",
      "_________________________________________________________________\n",
      "activation_2 (Activation)    (None, 1)                 0         \n",
      "=================================================================\n",
      "Total params: 133,281\n",
      "Trainable params: 133,281\n",
      "Non-trainable params: 0\n",
      "_________________________________________________________________\n"
     ]
    }
   ],
   "source": [
    "model.summary()"
   ]
  },
  {
   "cell_type": "code",
   "execution_count": 21,
   "metadata": {},
   "outputs": [
    {
     "data": {
      "image/png": "[encoded data removed]",
      "text/plain": [
       "<IPython.core.display.Image object>"
      ]
     },
     "execution_count": 21,
     "metadata": {},
     "output_type": "execute_result"
    }
   ],
   "source": [
    "plot_model(model, to_file='ann-cat-dog.png', show_shapes=True)"
   ]
  },
  {
   "cell_type": "code",
   "execution_count": 22,
   "metadata": {},
   "outputs": [],
   "source": [
    "model.compile(loss='binary_crossentropy', \n",
    "              optimizer='adam',\n",
    "              metrics=['accuracy'])"
   ]
  },
  {
   "cell_type": "code",
   "execution_count": 23,
   "metadata": {},
   "outputs": [
    {
     "name": "stdout",
     "output_type": "stream",
     "text": [
      "(8000, 1024)\n",
      "Epoch 1/100\n",
      "50/50 [==============================] - 0s 8ms/step - loss: 0.6918 - accuracy: 0.5267 - val_loss: 0.6879 - val_accuracy: 0.5437\n",
      "Epoch 2/100\n",
      "50/50 [==============================] - 0s 5ms/step - loss: 0.6820 - accuracy: 0.5508 - val_loss: 0.6818 - val_accuracy: 0.5631\n",
      "Epoch 3/100\n",
      "50/50 [==============================] - 0s 4ms/step - loss: 0.6773 - accuracy: 0.5616 - val_loss: 0.6733 - val_accuracy: 0.5719\n",
      "Epoch 4/100\n",
      "50/50 [==============================] - 0s 6ms/step - loss: 0.6747 - accuracy: 0.5709 - val_loss: 0.6695 - val_accuracy: 0.5756\n",
      "Epoch 5/100\n",
      "50/50 [==============================] - 0s 4ms/step - loss: 0.6749 - accuracy: 0.5627 - val_loss: 0.6681 - val_accuracy: 0.5756\n",
      "Epoch 6/100\n",
      "50/50 [==============================] - 0s 4ms/step - loss: 0.6723 - accuracy: 0.5738 - val_loss: 0.6698 - val_accuracy: 0.5825\n",
      "Epoch 7/100\n",
      "50/50 [==============================] - 0s 4ms/step - loss: 0.6694 - accuracy: 0.5877 - val_loss: 0.6637 - val_accuracy: 0.5863\n",
      "Epoch 8/100\n",
      "50/50 [==============================] - 0s 4ms/step - loss: 0.6682 - accuracy: 0.5886 - val_loss: 0.6704 - val_accuracy: 0.5769\n",
      "Epoch 9/100\n",
      "50/50 [==============================] - 0s 4ms/step - loss: 0.6659 - accuracy: 0.5886 - val_loss: 0.6662 - val_accuracy: 0.5731\n",
      "Epoch 10/100\n",
      "50/50 [==============================] - 0s 4ms/step - loss: 0.6654 - accuracy: 0.5856 - val_loss: 0.6644 - val_accuracy: 0.5838\n",
      "Epoch 11/100\n",
      "50/50 [==============================] - 0s 4ms/step - loss: 0.6625 - accuracy: 0.5958 - val_loss: 0.6764 - val_accuracy: 0.5606\n",
      "Epoch 12/100\n",
      "50/50 [==============================] - 0s 4ms/step - loss: 0.6642 - accuracy: 0.5883 - val_loss: 0.6583 - val_accuracy: 0.5894\n",
      "Epoch 13/100\n",
      "50/50 [==============================] - 0s 4ms/step - loss: 0.6644 - accuracy: 0.5841 - val_loss: 0.6639 - val_accuracy: 0.5775\n",
      "Epoch 14/100\n",
      "50/50 [==============================] - 0s 4ms/step - loss: 0.6608 - accuracy: 0.5891 - val_loss: 0.6571 - val_accuracy: 0.5944\n",
      "Epoch 15/100\n",
      "50/50 [==============================] - 0s 4ms/step - loss: 0.6580 - accuracy: 0.5977 - val_loss: 0.6600 - val_accuracy: 0.5900\n",
      "Epoch 16/100\n",
      "50/50 [==============================] - 0s 4ms/step - loss: 0.6578 - accuracy: 0.5994 - val_loss: 0.6572 - val_accuracy: 0.5888\n",
      "Epoch 17/100\n",
      "50/50 [==============================] - 0s 4ms/step - loss: 0.6585 - accuracy: 0.5948 - val_loss: 0.6559 - val_accuracy: 0.5931\n",
      "Epoch 18/100\n",
      "50/50 [==============================] - 0s 4ms/step - loss: 0.6554 - accuracy: 0.5936 - val_loss: 0.6574 - val_accuracy: 0.5850\n",
      "Epoch 19/100\n",
      "50/50 [==============================] - 0s 4ms/step - loss: 0.6530 - accuracy: 0.5962 - val_loss: 0.6623 - val_accuracy: 0.5744\n",
      "Epoch 20/100\n",
      "50/50 [==============================] - 0s 4ms/step - loss: 0.6547 - accuracy: 0.6006 - val_loss: 0.6650 - val_accuracy: 0.5731\n",
      "Epoch 21/100\n",
      "50/50 [==============================] - 0s 4ms/step - loss: 0.6521 - accuracy: 0.5998 - val_loss: 0.6574 - val_accuracy: 0.5856\n",
      "Epoch 22/100\n",
      "50/50 [==============================] - 0s 4ms/step - loss: 0.6562 - accuracy: 0.6003 - val_loss: 0.6524 - val_accuracy: 0.5981\n",
      "Epoch 23/100\n",
      "50/50 [==============================] - 0s 4ms/step - loss: 0.6483 - accuracy: 0.6061 - val_loss: 0.6641 - val_accuracy: 0.5756\n",
      "Epoch 24/100\n",
      "50/50 [==============================] - 0s 4ms/step - loss: 0.6503 - accuracy: 0.5987 - val_loss: 0.6541 - val_accuracy: 0.5919\n",
      "Epoch 25/100\n",
      "50/50 [==============================] - 0s 4ms/step - loss: 0.6487 - accuracy: 0.6025 - val_loss: 0.6535 - val_accuracy: 0.6037\n",
      "Epoch 26/100\n",
      "50/50 [==============================] - 0s 4ms/step - loss: 0.6446 - accuracy: 0.6111 - val_loss: 0.6737 - val_accuracy: 0.5663\n",
      "Epoch 27/100\n",
      "50/50 [==============================] - 0s 4ms/step - loss: 0.6501 - accuracy: 0.6050 - val_loss: 0.6618 - val_accuracy: 0.5700\n",
      "Epoch 28/100\n",
      "50/50 [==============================] - 0s 4ms/step - loss: 0.6459 - accuracy: 0.6103 - val_loss: 0.6581 - val_accuracy: 0.6019\n",
      "Epoch 29/100\n",
      "50/50 [==============================] - 0s 4ms/step - loss: 0.6444 - accuracy: 0.6083 - val_loss: 0.6526 - val_accuracy: 0.5950\n",
      "Epoch 30/100\n",
      "50/50 [==============================] - 0s 4ms/step - loss: 0.6450 - accuracy: 0.6100 - val_loss: 0.6512 - val_accuracy: 0.5962\n",
      "Epoch 31/100\n",
      "50/50 [==============================] - 0s 5ms/step - loss: 0.6432 - accuracy: 0.6105 - val_loss: 0.6550 - val_accuracy: 0.5881\n",
      "Epoch 32/100\n",
      "50/50 [==============================] - 0s 4ms/step - loss: 0.6394 - accuracy: 0.6150 - val_loss: 0.6584 - val_accuracy: 0.5944\n",
      "Epoch 33/100\n",
      "50/50 [==============================] - 0s 4ms/step - loss: 0.6424 - accuracy: 0.6172 - val_loss: 0.6622 - val_accuracy: 0.5775\n",
      "Epoch 34/100\n",
      "50/50 [==============================] - 0s 4ms/step - loss: 0.6449 - accuracy: 0.6050 - val_loss: 0.6578 - val_accuracy: 0.5888\n",
      "Epoch 35/100\n",
      "50/50 [==============================] - 0s 4ms/step - loss: 0.6396 - accuracy: 0.6131 - val_loss: 0.6576 - val_accuracy: 0.5844\n",
      "Epoch 36/100\n",
      "50/50 [==============================] - 0s 4ms/step - loss: 0.6398 - accuracy: 0.6080 - val_loss: 0.6534 - val_accuracy: 0.6037\n",
      "Epoch 37/100\n",
      "50/50 [==============================] - 0s 4ms/step - loss: 0.6385 - accuracy: 0.6191 - val_loss: 0.6554 - val_accuracy: 0.5944\n",
      "Epoch 38/100\n",
      "50/50 [==============================] - 0s 4ms/step - loss: 0.6363 - accuracy: 0.6203 - val_loss: 0.6623 - val_accuracy: 0.5888\n",
      "Epoch 39/100\n",
      "50/50 [==============================] - 0s 4ms/step - loss: 0.6357 - accuracy: 0.6164 - val_loss: 0.6533 - val_accuracy: 0.5944\n",
      "Epoch 40/100\n",
      "50/50 [==============================] - 0s 4ms/step - loss: 0.6314 - accuracy: 0.6158 - val_loss: 0.6508 - val_accuracy: 0.6012\n",
      "Epoch 41/100\n",
      "50/50 [==============================] - 0s 4ms/step - loss: 0.6360 - accuracy: 0.6134 - val_loss: 0.6547 - val_accuracy: 0.6031\n",
      "Epoch 42/100\n",
      "50/50 [==============================] - 0s 4ms/step - loss: 0.6349 - accuracy: 0.6217 - val_loss: 0.6561 - val_accuracy: 0.5931\n",
      "Epoch 43/100\n",
      "50/50 [==============================] - 0s 4ms/step - loss: 0.6313 - accuracy: 0.6191 - val_loss: 0.6511 - val_accuracy: 0.5994\n",
      "Epoch 44/100\n",
      "50/50 [==============================] - 0s 4ms/step - loss: 0.6315 - accuracy: 0.6191 - val_loss: 0.6574 - val_accuracy: 0.6044\n",
      "Epoch 45/100\n",
      "50/50 [==============================] - 0s 4ms/step - loss: 0.6293 - accuracy: 0.6237 - val_loss: 0.6537 - val_accuracy: 0.6075\n",
      "Epoch 46/100\n",
      "50/50 [==============================] - 0s 4ms/step - loss: 0.6306 - accuracy: 0.6261 - val_loss: 0.6614 - val_accuracy: 0.5781\n",
      "Epoch 47/100\n",
      "50/50 [==============================] - 0s 4ms/step - loss: 0.6293 - accuracy: 0.6256 - val_loss: 0.6554 - val_accuracy: 0.5950\n",
      "Epoch 48/100\n",
      "50/50 [==============================] - 0s 4ms/step - loss: 0.6232 - accuracy: 0.6286 - val_loss: 0.6624 - val_accuracy: 0.5863\n",
      "Epoch 49/100\n",
      "50/50 [==============================] - 0s 4ms/step - loss: 0.6213 - accuracy: 0.6295 - val_loss: 0.6627 - val_accuracy: 0.6050\n",
      "Epoch 50/100\n",
      "50/50 [==============================] - 0s 4ms/step - loss: 0.6225 - accuracy: 0.6358 - val_loss: 0.6568 - val_accuracy: 0.6012\n",
      "Epoch 51/100\n",
      "50/50 [==============================] - 0s 4ms/step - loss: 0.6176 - accuracy: 0.6306 - val_loss: 0.6590 - val_accuracy: 0.5962\n",
      "Epoch 52/100\n",
      "50/50 [==============================] - 0s 4ms/step - loss: 0.6214 - accuracy: 0.6350 - val_loss: 0.6630 - val_accuracy: 0.5987\n",
      "Epoch 53/100\n",
      "50/50 [==============================] - 0s 4ms/step - loss: 0.6160 - accuracy: 0.6256 - val_loss: 0.6549 - val_accuracy: 0.5975\n",
      "Epoch 54/100\n",
      "50/50 [==============================] - 0s 4ms/step - loss: 0.6199 - accuracy: 0.6338 - val_loss: 0.6526 - val_accuracy: 0.5906\n",
      "Epoch 55/100\n",
      "50/50 [==============================] - 0s 4ms/step - loss: 0.6183 - accuracy: 0.6344 - val_loss: 0.6596 - val_accuracy: 0.5881\n",
      "Epoch 56/100\n",
      "50/50 [==============================] - 0s 4ms/step - loss: 0.6124 - accuracy: 0.6398 - val_loss: 0.6676 - val_accuracy: 0.6006\n",
      "Epoch 57/100\n",
      "50/50 [==============================] - 0s 4ms/step - loss: 0.6075 - accuracy: 0.6409 - val_loss: 0.6580 - val_accuracy: 0.6087\n",
      "Epoch 58/100\n"
     ]
    },
    {
     "name": "stdout",
     "output_type": "stream",
     "text": [
      "50/50 [==============================] - 0s 4ms/step - loss: 0.6099 - accuracy: 0.6442 - val_loss: 0.6584 - val_accuracy: 0.5944\n",
      "Epoch 59/100\n",
      "50/50 [==============================] - 0s 4ms/step - loss: 0.6107 - accuracy: 0.6444 - val_loss: 0.6565 - val_accuracy: 0.5994\n",
      "Epoch 60/100\n",
      "50/50 [==============================] - 0s 4ms/step - loss: 0.6088 - accuracy: 0.6422 - val_loss: 0.6600 - val_accuracy: 0.5962\n",
      "Epoch 61/100\n",
      "50/50 [==============================] - 0s 4ms/step - loss: 0.6115 - accuracy: 0.6420 - val_loss: 0.6603 - val_accuracy: 0.6019\n",
      "Epoch 62/100\n",
      "50/50 [==============================] - 0s 4ms/step - loss: 0.6086 - accuracy: 0.6422 - val_loss: 0.6615 - val_accuracy: 0.5944\n",
      "Epoch 63/100\n",
      "50/50 [==============================] - 0s 4ms/step - loss: 0.6085 - accuracy: 0.6381 - val_loss: 0.6635 - val_accuracy: 0.6069\n",
      "Epoch 64/100\n",
      "50/50 [==============================] - 0s 4ms/step - loss: 0.6016 - accuracy: 0.6491 - val_loss: 0.6635 - val_accuracy: 0.5975\n",
      "Epoch 65/100\n",
      "50/50 [==============================] - 0s 4ms/step - loss: 0.6006 - accuracy: 0.6553 - val_loss: 0.6613 - val_accuracy: 0.6094\n",
      "Epoch 66/100\n",
      "50/50 [==============================] - 0s 4ms/step - loss: 0.5985 - accuracy: 0.6548 - val_loss: 0.6720 - val_accuracy: 0.6037\n",
      "Epoch 67/100\n",
      "50/50 [==============================] - 0s 4ms/step - loss: 0.6038 - accuracy: 0.6489 - val_loss: 0.6574 - val_accuracy: 0.6037\n",
      "Epoch 68/100\n",
      "50/50 [==============================] - 0s 4ms/step - loss: 0.5968 - accuracy: 0.6450 - val_loss: 0.6664 - val_accuracy: 0.6075\n",
      "Epoch 69/100\n",
      "50/50 [==============================] - 0s 4ms/step - loss: 0.5928 - accuracy: 0.6592 - val_loss: 0.6728 - val_accuracy: 0.5987\n",
      "Epoch 70/100\n",
      "50/50 [==============================] - 0s 4ms/step - loss: 0.5960 - accuracy: 0.6450 - val_loss: 0.6764 - val_accuracy: 0.6037\n",
      "Epoch 71/100\n",
      "50/50 [==============================] - 0s 5ms/step - loss: 0.5962 - accuracy: 0.6530 - val_loss: 0.6646 - val_accuracy: 0.6000\n",
      "Epoch 72/100\n",
      "50/50 [==============================] - 0s 5ms/step - loss: 0.5944 - accuracy: 0.6566 - val_loss: 0.6649 - val_accuracy: 0.6112\n",
      "Epoch 73/100\n",
      "50/50 [==============================] - 0s 5ms/step - loss: 0.5939 - accuracy: 0.6583 - val_loss: 0.6693 - val_accuracy: 0.6069\n",
      "Epoch 74/100\n",
      "50/50 [==============================] - 0s 4ms/step - loss: 0.5850 - accuracy: 0.6636 - val_loss: 0.6846 - val_accuracy: 0.5969\n",
      "Epoch 75/100\n",
      "50/50 [==============================] - 0s 4ms/step - loss: 0.5915 - accuracy: 0.6639 - val_loss: 0.6676 - val_accuracy: 0.6106\n",
      "Epoch 76/100\n",
      "50/50 [==============================] - 0s 4ms/step - loss: 0.5844 - accuracy: 0.6634 - val_loss: 0.6717 - val_accuracy: 0.5981\n",
      "Epoch 77/100\n",
      "50/50 [==============================] - 0s 4ms/step - loss: 0.5864 - accuracy: 0.6648 - val_loss: 0.6660 - val_accuracy: 0.6012\n",
      "Epoch 78/100\n",
      "50/50 [==============================] - 0s 4ms/step - loss: 0.5792 - accuracy: 0.6675 - val_loss: 0.6836 - val_accuracy: 0.6081\n",
      "Epoch 79/100\n",
      "50/50 [==============================] - 0s 4ms/step - loss: 0.5834 - accuracy: 0.6656 - val_loss: 0.6743 - val_accuracy: 0.5956\n",
      "Epoch 80/100\n",
      "50/50 [==============================] - 0s 4ms/step - loss: 0.5827 - accuracy: 0.6667 - val_loss: 0.6784 - val_accuracy: 0.6050\n",
      "Epoch 81/100\n",
      "50/50 [==============================] - 0s 4ms/step - loss: 0.5821 - accuracy: 0.6658 - val_loss: 0.6747 - val_accuracy: 0.5944\n",
      "Epoch 82/100\n",
      "50/50 [==============================] - 0s 4ms/step - loss: 0.5807 - accuracy: 0.6758 - val_loss: 0.6735 - val_accuracy: 0.6012\n",
      "Epoch 83/100\n",
      "50/50 [==============================] - 0s 4ms/step - loss: 0.5831 - accuracy: 0.6675 - val_loss: 0.6875 - val_accuracy: 0.6012\n",
      "Epoch 84/100\n",
      "50/50 [==============================] - 0s 4ms/step - loss: 0.5829 - accuracy: 0.6662 - val_loss: 0.6765 - val_accuracy: 0.6050\n",
      "Epoch 85/100\n",
      "50/50 [==============================] - 0s 4ms/step - loss: 0.5714 - accuracy: 0.6830 - val_loss: 0.6928 - val_accuracy: 0.6025\n",
      "Epoch 86/100\n",
      "50/50 [==============================] - 0s 4ms/step - loss: 0.5757 - accuracy: 0.6777 - val_loss: 0.6790 - val_accuracy: 0.6050\n",
      "Epoch 87/100\n",
      "50/50 [==============================] - 0s 4ms/step - loss: 0.5699 - accuracy: 0.6731 - val_loss: 0.6835 - val_accuracy: 0.6044\n",
      "Epoch 88/100\n",
      "50/50 [==============================] - 0s 4ms/step - loss: 0.5606 - accuracy: 0.6836 - val_loss: 0.6964 - val_accuracy: 0.6112\n",
      "Epoch 89/100\n",
      "50/50 [==============================] - 0s 4ms/step - loss: 0.5668 - accuracy: 0.6800 - val_loss: 0.6926 - val_accuracy: 0.5925\n",
      "Epoch 90/100\n",
      "50/50 [==============================] - 0s 4ms/step - loss: 0.5620 - accuracy: 0.6773 - val_loss: 0.6797 - val_accuracy: 0.5788\n",
      "Epoch 91/100\n",
      "50/50 [==============================] - 0s 4ms/step - loss: 0.5693 - accuracy: 0.6778 - val_loss: 0.6875 - val_accuracy: 0.6125\n",
      "Epoch 92/100\n",
      "50/50 [==============================] - 0s 4ms/step - loss: 0.5548 - accuracy: 0.6938 - val_loss: 0.6748 - val_accuracy: 0.6100\n",
      "Epoch 93/100\n",
      "50/50 [==============================] - 0s 4ms/step - loss: 0.5585 - accuracy: 0.6852 - val_loss: 0.6883 - val_accuracy: 0.6031\n",
      "Epoch 94/100\n",
      "50/50 [==============================] - 0s 4ms/step - loss: 0.5619 - accuracy: 0.6844 - val_loss: 0.6890 - val_accuracy: 0.6000\n",
      "Epoch 95/100\n",
      "50/50 [==============================] - 0s 4ms/step - loss: 0.5585 - accuracy: 0.6855 - val_loss: 0.6929 - val_accuracy: 0.6137\n",
      "Epoch 96/100\n",
      "50/50 [==============================] - 0s 4ms/step - loss: 0.5472 - accuracy: 0.7000 - val_loss: 0.6919 - val_accuracy: 0.5981\n",
      "Epoch 97/100\n",
      "50/50 [==============================] - 0s 4ms/step - loss: 0.5487 - accuracy: 0.6920 - val_loss: 0.7074 - val_accuracy: 0.5881\n",
      "Epoch 98/100\n",
      "50/50 [==============================] - 0s 4ms/step - loss: 0.5476 - accuracy: 0.6905 - val_loss: 0.7015 - val_accuracy: 0.6081\n",
      "Epoch 99/100\n",
      "50/50 [==============================] - 0s 4ms/step - loss: 0.5547 - accuracy: 0.6894 - val_loss: 0.6898 - val_accuracy: 0.5806\n",
      "Epoch 100/100\n",
      "50/50 [==============================] - 0s 4ms/step - loss: 0.5618 - accuracy: 0.6791 - val_loss: 0.6970 - val_accuracy: 0.6119\n"
     ]
    },
    {
     "data": {
      "text/plain": [
       "<tensorflow.python.keras.callbacks.History at 0x239edbc41f0>"
      ]
     },
     "execution_count": 23,
     "metadata": {},
     "output_type": "execute_result"
    }
   ],
   "source": [
    "x_traininp = x_trainGray.reshape(8000,-1) \n",
    "print(x_traininp.shape)\n",
    "model.fit(x=x_traininp,y= y_train, epochs=100, batch_size=batch_size,validation_split=0.2)"
   ]
  },
  {
   "cell_type": "code",
   "execution_count": 24,
   "metadata": {},
   "outputs": [
    {
     "name": "stdout",
     "output_type": "stream",
     "text": [
      "16/16 [==============================] - 0s 2ms/step - loss: 0.7253 - accuracy: 0.5880\n",
      "\n",
      "Test accuracy: 58.8%\n"
     ]
    }
   ],
   "source": [
    "x_testinp = x_testGray.reshape(2000,-1)\n",
    "loss, acc = model.evaluate(x_testinp, y_test, batch_size=batch_size)\n",
    "print(\"\\nTest accuracy: %.1f%%\" % (100.0 * acc))"
   ]
  },
  {
   "cell_type": "code",
   "execution_count": 25,
   "metadata": {},
   "outputs": [],
   "source": [
    "## CNN"
   ]
  },
  {
   "cell_type": "code",
   "execution_count": 26,
   "metadata": {},
   "outputs": [],
   "source": [
    "from keras.layers import Flatten, Conv2D, MaxPool2D\n",
    "from sklearn.metrics import confusion_matrix"
   ]
  },
  {
   "cell_type": "code",
   "execution_count": 27,
   "metadata": {},
   "outputs": [],
   "source": [
    "model = Sequential()\n",
    "\n",
    "model.add(Conv2D(filters = 32, kernel_size = (5,5),padding = 'Same', \n",
    "                 activation ='relu', input_shape = (32,32,3)))\n",
    "model.add(Conv2D(filters = 32, kernel_size = (5,5),padding = 'Same', \n",
    "                 activation ='relu'))\n",
    "model.add(MaxPool2D(pool_size=(2,2)))\n",
    "model.add(Dropout(0.25))\n",
    "\n",
    "\n",
    "model.add(Conv2D(filters = 64, kernel_size = (3,3),padding = 'Same', \n",
    "                 activation ='relu'))\n",
    "# model.add(Conv2D(filters = 64, kernel_size = (3,3),padding = 'Same', \n",
    "#                  activation ='relu'))\n",
    "model.add(MaxPool2D(pool_size=(2,2), strides=(2,2)))\n",
    "model.add(Dropout(0.25))\n",
    "\n",
    "\n",
    "model.add(Flatten())\n",
    "model.add(Dense(256, activation = \"relu\"))\n",
    "model.add(Dropout(0.3))\n",
    "model.add(Dense(1, activation = \"sigmoid\"))"
   ]
  },
  {
   "cell_type": "code",
   "execution_count": 33,
   "metadata": {},
   "outputs": [
    {
     "name": "stdout",
     "output_type": "stream",
     "text": [
      "Model: \"sequential_1\"\n",
      "_________________________________________________________________\n",
      "Layer (type)                 Output Shape              Param #   \n",
      "=================================================================\n",
      "conv2d (Conv2D)              (None, 32, 32, 32)        2432      \n",
      "_________________________________________________________________\n",
      "conv2d_1 (Conv2D)            (None, 32, 32, 32)        25632     \n",
      "_________________________________________________________________\n",
      "max_pooling2d (MaxPooling2D) (None, 16, 16, 32)        0         \n",
      "_________________________________________________________________\n",
      "dropout_2 (Dropout)          (None, 16, 16, 32)        0         \n",
      "_________________________________________________________________\n",
      "conv2d_2 (Conv2D)            (None, 16, 16, 64)        18496     \n",
      "_________________________________________________________________\n",
      "conv2d_3 (Conv2D)            (None, 16, 16, 64)        36928     \n",
      "_________________________________________________________________\n",
      "max_pooling2d_1 (MaxPooling2 (None, 8, 8, 64)          0         \n",
      "_________________________________________________________________\n",
      "dropout_3 (Dropout)          (None, 8, 8, 64)          0         \n",
      "_________________________________________________________________\n",
      "flatten (Flatten)            (None, 4096)              0         \n",
      "_________________________________________________________________\n",
      "dense_3 (Dense)              (None, 256)               1048832   \n",
      "_________________________________________________________________\n",
      "dropout_4 (Dropout)          (None, 256)               0         \n",
      "_________________________________________________________________\n",
      "dense_4 (Dense)              (None, 1)                 257       \n",
      "=================================================================\n",
      "Total params: 1,132,577\n",
      "Trainable params: 1,132,577\n",
      "Non-trainable params: 0\n",
      "_________________________________________________________________\n"
     ]
    }
   ],
   "source": [
    "model.summary()"
   ]
  },
  {
   "cell_type": "code",
   "execution_count": 28,
   "metadata": {},
   "outputs": [],
   "source": [
    "model.compile(optimizer = 'adam' , loss = \"binary_crossentropy\", metrics=[\"accuracy\"])"
   ]
  },
  {
   "cell_type": "code",
   "execution_count": 29,
   "metadata": {},
   "outputs": [
    {
     "name": "stdout",
     "output_type": "stream",
     "text": [
      "Epoch 1/25\n",
      "50/50 [==============================] - 42s 830ms/step - loss: 0.6863 - accuracy: 0.5473 - val_loss: 0.6799 - val_accuracy: 0.5675\n",
      "Epoch 2/25\n",
      "50/50 [==============================] - 41s 813ms/step - loss: 0.6524 - accuracy: 0.6159 - val_loss: 0.6305 - val_accuracy: 0.6425\n",
      "Epoch 3/25\n",
      "50/50 [==============================] - 41s 814ms/step - loss: 0.6224 - accuracy: 0.6514 - val_loss: 0.6014 - val_accuracy: 0.6706\n",
      "Epoch 4/25\n",
      "50/50 [==============================] - 41s 828ms/step - loss: 0.6049 - accuracy: 0.6652 - val_loss: 0.5929 - val_accuracy: 0.6725\n",
      "Epoch 5/25\n",
      "50/50 [==============================] - 40s 803ms/step - loss: 0.5724 - accuracy: 0.6959 - val_loss: 0.5694 - val_accuracy: 0.6988\n",
      "Epoch 6/25\n",
      "50/50 [==============================] - 39s 772ms/step - loss: 0.5509 - accuracy: 0.7122 - val_loss: 0.5555 - val_accuracy: 0.7100\n",
      "Epoch 7/25\n",
      "50/50 [==============================] - 41s 824ms/step - loss: 0.5332 - accuracy: 0.7292 - val_loss: 0.5392 - val_accuracy: 0.7319\n",
      "Epoch 8/25\n",
      "50/50 [==============================] - 39s 787ms/step - loss: 0.5027 - accuracy: 0.7506 - val_loss: 0.5254 - val_accuracy: 0.7369\n",
      "Epoch 9/25\n",
      "50/50 [==============================] - 38s 753ms/step - loss: 0.4827 - accuracy: 0.7617 - val_loss: 0.5146 - val_accuracy: 0.7469\n",
      "Epoch 10/25\n",
      "50/50 [==============================] - 36s 728ms/step - loss: 0.4649 - accuracy: 0.7700 - val_loss: 0.5202 - val_accuracy: 0.7331\n",
      "Epoch 11/25\n",
      "50/50 [==============================] - 38s 762ms/step - loss: 0.4412 - accuracy: 0.7925 - val_loss: 0.5263 - val_accuracy: 0.7406\n",
      "Epoch 12/25\n",
      "50/50 [==============================] - 38s 760ms/step - loss: 0.4228 - accuracy: 0.7956 - val_loss: 0.5240 - val_accuracy: 0.7525\n",
      "Epoch 13/25\n",
      "50/50 [==============================] - 35s 710ms/step - loss: 0.3964 - accuracy: 0.8117 - val_loss: 0.4913 - val_accuracy: 0.7613\n",
      "Epoch 14/25\n",
      "50/50 [==============================] - 33s 663ms/step - loss: 0.3713 - accuracy: 0.8264 - val_loss: 0.4919 - val_accuracy: 0.7706\n",
      "Epoch 15/25\n",
      "50/50 [==============================] - 40s 795ms/step - loss: 0.3558 - accuracy: 0.8402 - val_loss: 0.5066 - val_accuracy: 0.7481\n",
      "Epoch 16/25\n",
      "50/50 [==============================] - 39s 789ms/step - loss: 0.3306 - accuracy: 0.8516 - val_loss: 0.4970 - val_accuracy: 0.7756\n",
      "Epoch 17/25\n",
      "50/50 [==============================] - 36s 722ms/step - loss: 0.2988 - accuracy: 0.8659 - val_loss: 0.4993 - val_accuracy: 0.7800\n",
      "Epoch 18/25\n",
      "50/50 [==============================] - 30s 604ms/step - loss: 0.2736 - accuracy: 0.8834 - val_loss: 0.5768 - val_accuracy: 0.7425\n",
      "Epoch 19/25\n",
      "50/50 [==============================] - 34s 685ms/step - loss: 0.2449 - accuracy: 0.8956 - val_loss: 0.5392 - val_accuracy: 0.7675\n",
      "Epoch 20/25\n",
      "50/50 [==============================] - 33s 663ms/step - loss: 0.2106 - accuracy: 0.9127 - val_loss: 0.5595 - val_accuracy: 0.7756\n",
      "Epoch 21/25\n",
      "50/50 [==============================] - 43s 857ms/step - loss: 0.1996 - accuracy: 0.9178 - val_loss: 0.5530 - val_accuracy: 0.7725\n",
      "Epoch 22/25\n",
      "50/50 [==============================] - 37s 746ms/step - loss: 0.1792 - accuracy: 0.9269 - val_loss: 0.5883 - val_accuracy: 0.7738\n",
      "Epoch 23/25\n",
      "50/50 [==============================] - 40s 790ms/step - loss: 0.1523 - accuracy: 0.9392 - val_loss: 0.6593 - val_accuracy: 0.7731\n",
      "Epoch 24/25\n",
      "50/50 [==============================] - 40s 803ms/step - loss: 0.1467 - accuracy: 0.9425 - val_loss: 0.6167 - val_accuracy: 0.7706\n",
      "Epoch 25/25\n",
      "50/50 [==============================] - 31s 619ms/step - loss: 0.1278 - accuracy: 0.9541 - val_loss: 0.7147 - val_accuracy: 0.7831\n"
     ]
    },
    {
     "data": {
      "text/plain": [
       "<tensorflow.python.keras.callbacks.History at 0x239f8f52610>"
      ]
     },
     "execution_count": 29,
     "metadata": {},
     "output_type": "execute_result"
    }
   ],
   "source": [
    "model.fit(x_trainImgs,y_train,epochs=25, batch_size=batch_size,validation_split=0.2)"
   ]
  },
  {
   "cell_type": "code",
   "execution_count": 30,
   "metadata": {},
   "outputs": [
    {
     "name": "stdout",
     "output_type": "stream",
     "text": [
      "16/16 [==============================] - 2s 136ms/step - loss: 0.7461 - accuracy: 0.7705\n",
      "\n",
      "Test accuracy: 77.1%\n"
     ]
    }
   ],
   "source": [
    "loss, acc = model.evaluate(x_testImgs, y_test, batch_size=batch_size)\n",
    "print(\"\\nTest accuracy: %.1f%%\" % (100.0 * acc))"
   ]
  },
  {
   "cell_type": "code",
   "execution_count": 31,
   "metadata": {},
   "outputs": [
    {
     "data": {
      "image/png": "[encoded data removed]",
      "text/plain": [
       "<IPython.core.display.Image object>"
      ]
     },
     "execution_count": 31,
     "metadata": {},
     "output_type": "execute_result"
    }
   ],
   "source": [
    "plot_model(model, to_file='cnn-cat-dog.png', show_shapes=True)"
   ]
  },
  {
   "cell_type": "code",
   "execution_count": 40,
   "metadata": {},
   "outputs": [],
   "source": [
    "predicted = model.predict(x_testImgs).round().flatten() "
   ]
  },
  {
   "cell_type": "code",
   "execution_count": 41,
   "metadata": {},
   "outputs": [],
   "source": [
    "total = len(predicted)"
   ]
  },
  {
   "cell_type": "code",
   "execution_count": 46,
   "metadata": {},
   "outputs": [],
   "source": [
    "correct = np.sum(predicted == y_test)"
   ]
  },
  {
   "cell_type": "code",
   "execution_count": 47,
   "metadata": {},
   "outputs": [
    {
     "name": "stdout",
     "output_type": "stream",
     "text": [
      "0.7705\n"
     ]
    }
   ],
   "source": [
    "accuracy = correct / total\n",
    "print(accuracy)"
   ]
  },
  {
   "cell_type": "code",
   "execution_count": null,
   "metadata": {},
   "outputs": [],
   "source": []
  }
 ],
 "metadata": {
  "kernelspec": {
   "display_name": "Python 3",
   "language": "python",
   "name": "python3"
  },
  "language_info": {
   "codemirror_mode": {
    "name": "ipython",
    "version": 3
   },
   "file_extension": ".py",
   "mimetype": "text/x-python",
   "name": "python",
   "nbconvert_exporter": "python",
   "pygments_lexer": "ipython3",
   "version": "3.8.3"
  }
 },
 "nbformat": 4,
 "nbformat_minor": 4
}
